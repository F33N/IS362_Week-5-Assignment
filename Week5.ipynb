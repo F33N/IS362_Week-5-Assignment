{
 "cells": [
  {
   "cell_type": "code",
   "execution_count": 1,
   "id": "66f1127e",
   "metadata": {},
   "outputs": [],
   "source": [
    "import pandas as pd\n",
    "\n",
    "# Load the CSV data into a pandas DataFrame\n",
    "airports = pd.read_csv('https://raw.githubusercontent.com/hadley/nycflights13/master/data-raw/airports.csv')\n"
   ]
  },
  {
   "cell_type": "code",
   "execution_count": 2,
   "id": "8f261f32",
   "metadata": {},
   "outputs": [
    {
     "name": "stdout",
     "output_type": "stream",
     "text": [
      "     faa                                        name        lat         lon  \\\n",
      "417  EEN                     Dillant Hopkins Airport  72.270833   42.898333   \n",
      "230  BRW                  Wiley Post Will Rogers Mem  71.285446 -156.766003   \n",
      "110  AIN                          Wainwright Airport  70.638056 -159.994722   \n",
      "708  K03                               Wainwright As  70.613378 -159.860350   \n",
      "152  ATK  Atqasuk Edward Burnell Sr Memorial Airport  70.467300 -157.436000   \n",
      "\n",
      "     alt  tz dst              tzone  \n",
      "417  149  -5   A                NaN  \n",
      "230   44  -9   A  America/Anchorage  \n",
      "110   41  -9   A  America/Anchorage  \n",
      "708   35  -9   A  America/Anchorage  \n",
      "152   96  -9   A  America/Anchorage  \n"
     ]
    }
   ],
   "source": [
    "northernmost_airports = airports.sort_values('lon', ascending=False).head()\n",
    "print(northernmost_airports)\n"
   ]
  },
  {
   "cell_type": "code",
   "execution_count": 3,
   "id": "ef6ce130",
   "metadata": {},
   "outputs": [
    {
     "name": "stdout",
     "output_type": "stream",
     "text": [
      "      faa              name        lat         lon  alt  tz dst  \\\n",
      "95    ADK      Adak Airport  51.878000 -176.646000   18  -9   A   \n",
      "112   AKB      Atka Airport  52.220278 -174.206389   56  -9   A   \n",
      "522   GAM   Gambell Airport  63.766800 -171.733000   27  -9   A   \n",
      "1281  SVA  Savoonga Airport  63.686400 -170.493000   53  -9   A   \n",
      "1251  SNP    St Paul Island  57.167333 -170.220444   63  -9   A   \n",
      "\n",
      "                  tzone  \n",
      "95    America/Anchorage  \n",
      "112   America/Anchorage  \n",
      "522   America/Anchorage  \n",
      "1281  America/Anchorage  \n",
      "1251  America/Anchorage  \n"
     ]
    }
   ],
   "source": [
    "easternmost_airports = airports.sort_values('lat', ascending=True).head()\n",
    "print(easternmost_airports)\n"
   ]
  },
  {
   "cell_type": "code",
   "execution_count": 5,
   "id": "b31352cc",
   "metadata": {},
   "outputs": [
    {
     "name": "stdout",
     "output_type": "stream",
     "text": [
      "      origin  year  month  day  hour   temp   dewp  humid  wind_dir  \\\n",
      "1009     EWR  2013      2   12     3  39.02  26.96  61.63     260.0   \n",
      "18417    LGA  2013      2   12     2  42.98  26.06  50.94     290.0   \n",
      "1018     EWR  2013      2   12    12  44.06  26.06  48.87     270.0   \n",
      "18428    LGA  2013      2   12    13  44.06  23.00  43.02     300.0   \n",
      "18429    LGA  2013      2   12    14  44.06  23.00  43.02     300.0   \n",
      "\n",
      "       wind_speed  wind_gust  precip  pressure  visib             time_hour  \n",
      "1009   1048.36058        NaN     0.0    1008.3   10.0  2013-02-12T08:00:00Z  \n",
      "18417    23.01560   31.07106     0.0    1007.1   10.0  2013-02-12T07:00:00Z  \n",
      "1018     21.86482   31.07106     0.0    1012.5   10.0  2013-02-12T17:00:00Z  \n",
      "18428    21.86482   25.31716     0.0    1011.7   10.0  2013-02-12T18:00:00Z  \n",
      "18429    20.71404   25.31716     0.0    1011.5   10.0  2013-02-12T19:00:00Z  \n"
     ]
    }
   ],
   "source": [
    "# Load the weather data\n",
    "weather = pd.read_csv('https://raw.githubusercontent.com/hadley/nycflights13/master/data-raw/weather.csv')\n",
    "\n",
    "# Filter for the specified date and sort by wind speed\n",
    "windiest_weather = weather[(weather['year'] == 2013) & (weather['month'] == 2) & (weather['day'] == 12)].sort_values('wind_speed', ascending=False).head()\n",
    "\n",
    "print(windiest_weather)"
   ]
  },
  {
   "cell_type": "code",
   "execution_count": null,
   "id": "fd083dc5",
   "metadata": {},
   "outputs": [],
   "source": []
  }
 ],
 "metadata": {
  "kernelspec": {
   "display_name": "Python 3 (ipykernel)",
   "language": "python",
   "name": "python3"
  },
  "language_info": {
   "codemirror_mode": {
    "name": "ipython",
    "version": 3
   },
   "file_extension": ".py",
   "mimetype": "text/x-python",
   "name": "python",
   "nbconvert_exporter": "python",
   "pygments_lexer": "ipython3",
   "version": "3.10.9"
  }
 },
 "nbformat": 4,
 "nbformat_minor": 5
}
